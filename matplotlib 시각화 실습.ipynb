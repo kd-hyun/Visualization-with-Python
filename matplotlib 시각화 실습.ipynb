{
 "cells": [
  {
   "cell_type": "code",
   "execution_count": 1,
   "id": "9e0e34f7",
   "metadata": {},
   "outputs": [],
   "source": [
    "import numpy as np\n",
    "import pandas as pd\n",
    "import matplotlib.pyplot as plt\n",
    "import seaborn as sns\n",
    "\n",
    "import matplotlib.font_manager as fm\n",
    "font_name = fm.FontProperties(fname = \"C:\\\\Windows\\\\Fonts\\\\malgun.ttf\").get_name()\n",
    "plt.rc(\"font\", family=font_name)\n",
    "\n",
    "# 음수지원\n",
    "import matplotlib as mlp\n",
    "mlp.rcParams[\"axes.unicode_minus\"] = False"
   ]
  },
  {
   "cell_type": "markdown",
   "id": "18e5d26a",
   "metadata": {},
   "source": [
    "# 1. Seaborn 의 tips 데이터로 시각화 실습"
   ]
  },
  {
   "cell_type": "markdown",
   "id": "d3656644",
   "metadata": {},
   "source": [
    "## (1) 데이터 준비"
   ]
  },
  {
   "cell_type": "code",
   "execution_count": 2,
   "id": "744cf5ce",
   "metadata": {},
   "outputs": [
    {
     "data": {
      "text/html": [
       "<div>\n",
       "<style scoped>\n",
       "    .dataframe tbody tr th:only-of-type {\n",
       "        vertical-align: middle;\n",
       "    }\n",
       "\n",
       "    .dataframe tbody tr th {\n",
       "        vertical-align: top;\n",
       "    }\n",
       "\n",
       "    .dataframe thead th {\n",
       "        text-align: right;\n",
       "    }\n",
       "</style>\n",
       "<table border=\"1\" class=\"dataframe\">\n",
       "  <thead>\n",
       "    <tr style=\"text-align: right;\">\n",
       "      <th></th>\n",
       "      <th>total_bill</th>\n",
       "      <th>tip</th>\n",
       "      <th>sex</th>\n",
       "      <th>smoker</th>\n",
       "      <th>day</th>\n",
       "      <th>time</th>\n",
       "      <th>size</th>\n",
       "    </tr>\n",
       "  </thead>\n",
       "  <tbody>\n",
       "    <tr>\n",
       "      <th>239</th>\n",
       "      <td>29.03</td>\n",
       "      <td>5.92</td>\n",
       "      <td>Male</td>\n",
       "      <td>No</td>\n",
       "      <td>Sat</td>\n",
       "      <td>Dinner</td>\n",
       "      <td>3</td>\n",
       "    </tr>\n",
       "    <tr>\n",
       "      <th>240</th>\n",
       "      <td>27.18</td>\n",
       "      <td>2.00</td>\n",
       "      <td>Female</td>\n",
       "      <td>Yes</td>\n",
       "      <td>Sat</td>\n",
       "      <td>Dinner</td>\n",
       "      <td>2</td>\n",
       "    </tr>\n",
       "    <tr>\n",
       "      <th>241</th>\n",
       "      <td>22.67</td>\n",
       "      <td>2.00</td>\n",
       "      <td>Male</td>\n",
       "      <td>Yes</td>\n",
       "      <td>Sat</td>\n",
       "      <td>Dinner</td>\n",
       "      <td>2</td>\n",
       "    </tr>\n",
       "    <tr>\n",
       "      <th>242</th>\n",
       "      <td>17.82</td>\n",
       "      <td>1.75</td>\n",
       "      <td>Male</td>\n",
       "      <td>No</td>\n",
       "      <td>Sat</td>\n",
       "      <td>Dinner</td>\n",
       "      <td>2</td>\n",
       "    </tr>\n",
       "    <tr>\n",
       "      <th>243</th>\n",
       "      <td>18.78</td>\n",
       "      <td>3.00</td>\n",
       "      <td>Female</td>\n",
       "      <td>No</td>\n",
       "      <td>Thur</td>\n",
       "      <td>Dinner</td>\n",
       "      <td>2</td>\n",
       "    </tr>\n",
       "  </tbody>\n",
       "</table>\n",
       "</div>"
      ],
      "text/plain": [
       "     total_bill   tip     sex smoker   day    time  size\n",
       "239       29.03  5.92    Male     No   Sat  Dinner     3\n",
       "240       27.18  2.00  Female    Yes   Sat  Dinner     2\n",
       "241       22.67  2.00    Male    Yes   Sat  Dinner     2\n",
       "242       17.82  1.75    Male     No   Sat  Dinner     2\n",
       "243       18.78  3.00  Female     No  Thur  Dinner     2"
      ]
     },
     "execution_count": 2,
     "metadata": {},
     "output_type": "execute_result"
    }
   ],
   "source": [
    "tips = sns.load_dataset(\"tips\")\n",
    "tips.tail()"
   ]
  },
  {
   "cell_type": "markdown",
   "id": "2e8db79f",
   "metadata": {},
   "source": [
    "## (2) total_bill(총 식사 금액)에 대한 tip 분포 확인 -> 히스토그램\n"
   ]
  },
  {
   "cell_type": "code",
   "execution_count": 6,
   "id": "aabe4116",
   "metadata": {},
   "outputs": [
    {
     "data": {
      "text/plain": [
       "Text(0, 0.5, 'Total Bill')"
      ]
     },
     "execution_count": 6,
     "metadata": {},
     "output_type": "execute_result"
    },
    {
     "data": {
      "image/png": "[encoded data removed]",
      "text/plain": [
       "<Figure size 432x288 with 1 Axes>"
      ]
     },
     "metadata": {
      "needs_background": "light"
     },
     "output_type": "display_data"
    }
   ],
   "source": [
    "fig = plt.figure()\n",
    "ax = fig.add_subplot(1, 1, 1)\n",
    "\n",
    "ax.hist(tips[\"total_bill\"], bins=20)\n",
    "ax.set_title(\"식사 대급에 대한 히스토그램\")\n",
    "ax.set_xlabel(\"frequency\")\n",
    "ax.set_ylabel(\"Total Bill\")"
   ]
  },
  {
   "cell_type": "markdown",
   "id": "ab918718",
   "metadata": {},
   "source": [
    "## (3) total_bill(총 식사 금액)과 tip 과의 관계 -> 산점도"
   ]
  },
  {
   "cell_type": "code",
   "execution_count": 7,
   "id": "74bdbe87",
   "metadata": {},
   "outputs": [
    {
     "data": {
      "text/plain": [
       "Text(0, 0.5, 'Tip')"
      ]
     },
     "execution_count": 7,
     "metadata": {},
     "output_type": "execute_result"
    },
    {
     "data": {
      "image/png": "[encoded data removed]",
      "text/plain": [
       "<Figure size 432x288 with 1 Axes>"
      ]
     },
     "metadata": {
      "needs_background": "light"
     },
     "output_type": "display_data"
    }
   ],
   "source": [
    "fig = plt.figure()                \n",
    "ax = fig.add_subplot(1, 1, 1)    \n",
    "\n",
    "ax.scatter(tips[\"total_bill\"], tips[\"tip\"])\n",
    "ax.set_title(\"식사 대금과 팁에 대한 산포도\")\n",
    "ax.set_xlabel(\"Total Bill\")\n",
    "ax.set_ylabel(\"Tip\")"
   ]
  },
  {
   "cell_type": "markdown",
   "id": "25c6c2b3",
   "metadata": {},
   "source": [
    "## (4) 성별에 따른 total_bill과 tip의 관계 -> 산포도(관계면 산포도)"
   ]
  },
  {
   "cell_type": "code",
   "execution_count": 10,
   "id": "5970ec3a",
   "metadata": {},
   "outputs": [
    {
     "data": {
      "text/html": [
       "<div>\n",
       "<style scoped>\n",
       "    .dataframe tbody tr th:only-of-type {\n",
       "        vertical-align: middle;\n",
       "    }\n",
       "\n",
       "    .dataframe tbody tr th {\n",
       "        vertical-align: top;\n",
       "    }\n",
       "\n",
       "    .dataframe thead th {\n",
       "        text-align: right;\n",
       "    }\n",
       "</style>\n",
       "<table border=\"1\" class=\"dataframe\">\n",
       "  <thead>\n",
       "    <tr style=\"text-align: right;\">\n",
       "      <th></th>\n",
       "      <th>total_bill</th>\n",
       "      <th>tip</th>\n",
       "      <th>sex</th>\n",
       "      <th>smoker</th>\n",
       "      <th>day</th>\n",
       "      <th>time</th>\n",
       "      <th>size</th>\n",
       "      <th>sex_color</th>\n",
       "      <th>sex_sca</th>\n",
       "      <th>sex_scatter</th>\n",
       "    </tr>\n",
       "  </thead>\n",
       "  <tbody>\n",
       "    <tr>\n",
       "      <th>0</th>\n",
       "      <td>16.99</td>\n",
       "      <td>1.01</td>\n",
       "      <td>Female</td>\n",
       "      <td>No</td>\n",
       "      <td>Sun</td>\n",
       "      <td>Dinner</td>\n",
       "      <td>2</td>\n",
       "      <td>0</td>\n",
       "      <td>0</td>\n",
       "      <td>0</td>\n",
       "    </tr>\n",
       "    <tr>\n",
       "      <th>1</th>\n",
       "      <td>10.34</td>\n",
       "      <td>1.66</td>\n",
       "      <td>Male</td>\n",
       "      <td>No</td>\n",
       "      <td>Sun</td>\n",
       "      <td>Dinner</td>\n",
       "      <td>3</td>\n",
       "      <td>1</td>\n",
       "      <td>1</td>\n",
       "      <td>1</td>\n",
       "    </tr>\n",
       "    <tr>\n",
       "      <th>2</th>\n",
       "      <td>21.01</td>\n",
       "      <td>3.50</td>\n",
       "      <td>Male</td>\n",
       "      <td>No</td>\n",
       "      <td>Sun</td>\n",
       "      <td>Dinner</td>\n",
       "      <td>3</td>\n",
       "      <td>1</td>\n",
       "      <td>1</td>\n",
       "      <td>1</td>\n",
       "    </tr>\n",
       "    <tr>\n",
       "      <th>3</th>\n",
       "      <td>23.68</td>\n",
       "      <td>3.31</td>\n",
       "      <td>Male</td>\n",
       "      <td>No</td>\n",
       "      <td>Sun</td>\n",
       "      <td>Dinner</td>\n",
       "      <td>2</td>\n",
       "      <td>1</td>\n",
       "      <td>1</td>\n",
       "      <td>1</td>\n",
       "    </tr>\n",
       "    <tr>\n",
       "      <th>4</th>\n",
       "      <td>24.59</td>\n",
       "      <td>3.61</td>\n",
       "      <td>Female</td>\n",
       "      <td>No</td>\n",
       "      <td>Sun</td>\n",
       "      <td>Dinner</td>\n",
       "      <td>4</td>\n",
       "      <td>0</td>\n",
       "      <td>0</td>\n",
       "      <td>0</td>\n",
       "    </tr>\n",
       "  </tbody>\n",
       "</table>\n",
       "</div>"
      ],
      "text/plain": [
       "   total_bill   tip     sex smoker  day    time  size sex_color sex_sca  \\\n",
       "0       16.99  1.01  Female     No  Sun  Dinner     2         0       0   \n",
       "1       10.34  1.66    Male     No  Sun  Dinner     3         1       1   \n",
       "2       21.01  3.50    Male     No  Sun  Dinner     3         1       1   \n",
       "3       23.68  3.31    Male     No  Sun  Dinner     2         1       1   \n",
       "4       24.59  3.61  Female     No  Sun  Dinner     4         0       0   \n",
       "\n",
       "  sex_scatter  \n",
       "0           0  \n",
       "1           1  \n",
       "2           1  \n",
       "3           1  \n",
       "4           0  "
      ]
     },
     "execution_count": 10,
     "metadata": {},
     "output_type": "execute_result"
    }
   ],
   "source": [
    "# 전처리 : 문자인 성별데이터를 숫자로 바꿔주기\n",
    "\n",
    "def record_sex(sex):\n",
    "    if sex == \"Female\" :\n",
    "        return 0\n",
    "    else:\n",
    "        return 1\n",
    "    \n",
    "tips[\"sex_scatter\"] = tips[\"sex\"].apply(record_sex)\n",
    "tips.head()"
   ]
  },
  {
   "cell_type": "code",
   "execution_count": 12,
   "id": "c8add063",
   "metadata": {},
   "outputs": [
    {
     "data": {
      "text/plain": [
       "Text(0, 0.5, 'Tip')"
      ]
     },
     "execution_count": 12,
     "metadata": {},
     "output_type": "execute_result"
    },
    {
     "data": {
      "image/png": "[encoded data removed]",
      "text/plain": [
       "<Figure size 432x288 with 1 Axes>"
      ]
     },
     "metadata": {
      "needs_background": "light"
     },
     "output_type": "display_data"
    }
   ],
   "source": [
    "fig = plt.figure()\n",
    "ax = fig.add_subplot(1, 1, 1)\n",
    "\n",
    "ax.scatter(tips[\"total_bill\"], tips[\"tip\"], c = tips[\"sex_scatter\"], alpha = 0.7)\n",
    "    # alpha = : 투명도 조절\n",
    "\n",
    "ax.set_title(\"성별에 따른 식사 대금과 팁에 대한 산포도\")\n",
    "ax.set_xlabel(\"Total Bill\")\n",
    "ax.set_ylabel(\"Tip\")"
   ]
  },
  {
   "cell_type": "markdown",
   "id": "8effb127",
   "metadata": {},
   "source": [
    "## (5) 성별과 인원수에 따른 total_bill과 tip의 관계 -> 산포도(관계면 산포도)"
   ]
  },
  {
   "cell_type": "code",
   "execution_count": 15,
   "id": "328791cf",
   "metadata": {},
   "outputs": [
    {
     "data": {
      "text/plain": [
       "Text(0, 0.5, 'tip')"
      ]
     },
     "execution_count": 15,
     "metadata": {},
     "output_type": "execute_result"
    },
    {
     "data": {
      "image/png": "[encoded data removed]",
      "text/plain": [
       "<Figure size 432x288 with 1 Axes>"
      ]
     },
     "metadata": {
      "needs_background": "light"
     },
     "output_type": "display_data"
    }
   ],
   "source": [
    "fig = plt.figure()\n",
    "ax = fig.add_subplot(1, 1, 1)\n",
    "\n",
    "ax.scatter(tips[\"total_bill\"], tips[\"tip\"], c=tips[\"sex_scatter\"], alpha=0.7,\n",
    "          s=tips[\"size\"]*10)\n",
    "\n",
    "ax.set_title(\"성별과 인원수에 따른 식사 대금과 팁에 대한 산포도\")\n",
    "ax.set_xlabel(\"total_bill\")\n",
    "ax.set_ylabel(\"tip\")"
   ]
  },
  {
   "cell_type": "markdown",
   "id": "df958a43",
   "metadata": {},
   "source": [
    "## (6) 성별과 팁의 관계 -> 상자그림"
   ]
  },
  {
   "cell_type": "code",
   "execution_count": 16,
   "id": "04507019",
   "metadata": {},
   "outputs": [
    {
     "data": {
      "text/plain": [
       "Text(0, 0.5, 'Tip')"
      ]
     },
     "execution_count": 16,
     "metadata": {},
     "output_type": "execute_result"
    },
    {
     "data": {
      "image/png": "[encoded data removed]",
      "text/plain": [
       "<Figure size 432x288 with 1 Axes>"
      ]
     },
     "metadata": {
      "needs_background": "light"
     },
     "output_type": "display_data"
    }
   ],
   "source": [
    "fig = plt.figure()\n",
    "ax = fig.add_subplot(1, 1, 1)\n",
    "\n",
    "ax.boxplot([tips[tips[\"sex\"]==\"Female\"][\"tip\"], \n",
    "            tips[tips[\"sex\"]==\"Male\"][\"tip\"]], labels=[\"여성\", \"남성\"])\n",
    "\n",
    "ax.set_title(\"성별에 따른 tip\")\n",
    "ax.set_ylabel(\"Tip\")"
   ]
  },
  {
   "cell_type": "markdown",
   "id": "92aea275",
   "metadata": {},
   "source": [
    "# 2. 서울 신규 민간아파트 분양가격 동향 시각화 실습 "
   ]
  },
  {
   "cell_type": "markdown",
   "id": "1457827b",
   "metadata": {},
   "source": [
    "## (1) 데이터 준비"
   ]
  },
  {
   "cell_type": "code",
   "execution_count": 17,
   "id": "973d44dc",
   "metadata": {},
   "outputs": [
    {
     "name": "stdout",
     "output_type": "stream",
     "text": [
      "<class 'pandas.core.frame.DataFrame'>\n",
      "RangeIndex: 4590 entries, 0 to 4589\n",
      "Data columns (total 5 columns):\n",
      " #   Column   Non-Null Count  Dtype \n",
      "---  ------   --------------  ----- \n",
      " 0   지역명      4590 non-null   object\n",
      " 1   규모구분     4590 non-null   object\n",
      " 2   연도       4590 non-null   int64 \n",
      " 3   월        4590 non-null   int64 \n",
      " 4   분양가격(㎡)  4276 non-null   object\n",
      "dtypes: int64(2), object(3)\n",
      "memory usage: 179.4+ KB\n"
     ]
    }
   ],
   "source": [
    "# 데이터 출처 : https://data.go.kr\n",
    "\n",
    "apt = pd.read_csv(\"data/20200331.csv\", encoding=\"euc-kr\")\n",
    "apt.head()\n",
    "apt.info()"
   ]
  },
  {
   "cell_type": "markdown",
   "id": "8d6bc004",
   "metadata": {},
   "source": [
    "## (2) 데이터 전처리"
   ]
  },
  {
   "cell_type": "markdown",
   "id": "a7839a3a",
   "metadata": {},
   "source": [
    "### 1) 변수명 변경"
   ]
  },
  {
   "cell_type": "code",
   "execution_count": 18,
   "id": "4deec0da",
   "metadata": {},
   "outputs": [
    {
     "name": "stdout",
     "output_type": "stream",
     "text": [
      "<class 'pandas.core.frame.DataFrame'>\n",
      "RangeIndex: 4590 entries, 0 to 4589\n",
      "Data columns (total 5 columns):\n",
      " #   Column  Non-Null Count  Dtype \n",
      "---  ------  --------------  ----- \n",
      " 0   city    4590 non-null   object\n",
      " 1   size    4590 non-null   object\n",
      " 2   year    4590 non-null   int64 \n",
      " 3   month   4590 non-null   int64 \n",
      " 4   price   4276 non-null   object\n",
      "dtypes: int64(2), object(3)\n",
      "memory usage: 179.4+ KB\n"
     ]
    }
   ],
   "source": [
    "apt1 = apt.copy()\n",
    "\n",
    "apt1.columns = [\"city\", \"size\", \"year\", \"month\", \"price\"]\n",
    "apt1.info()"
   ]
  },
  {
   "cell_type": "markdown",
   "id": "089a3e5a",
   "metadata": {},
   "source": [
    "### 2) price를 실수형으로 변환"
   ]
  },
  {
   "cell_type": "code",
   "execution_count": 19,
   "id": "2c8143fa",
   "metadata": {},
   "outputs": [
    {
     "name": "stdout",
     "output_type": "stream",
     "text": [
      "<class 'pandas.core.frame.DataFrame'>\n",
      "RangeIndex: 4590 entries, 0 to 4589\n",
      "Data columns (total 5 columns):\n",
      " #   Column  Non-Null Count  Dtype  \n",
      "---  ------  --------------  -----  \n",
      " 0   city    4590 non-null   object \n",
      " 1   size    4590 non-null   object \n",
      " 2   year    4590 non-null   int64  \n",
      " 3   month   4590 non-null   int64  \n",
      " 4   price   4260 non-null   float64\n",
      "dtypes: float64(1), int64(2), object(2)\n",
      "memory usage: 179.4+ KB\n"
     ]
    }
   ],
   "source": [
    "apt1[\"price\"] = pd.to_numeric(apt1[\"price\"].str.strip())\n",
    "apt1.info()"
   ]
  },
  {
   "cell_type": "markdown",
   "id": "6aa538e3",
   "metadata": {},
   "source": [
    "### 3) 서울만 선택해서 \"전체\" size만 조회"
   ]
  },
  {
   "cell_type": "code",
   "execution_count": 25,
   "id": "00f8e118",
   "metadata": {},
   "outputs": [
    {
     "name": "stdout",
     "output_type": "stream",
     "text": [
      "CPU times: total: 31.2 ms\n",
      "Wall time: 9.61 ms\n"
     ]
    }
   ],
   "source": [
    "%%time \n",
    "apt_seoul = apt1.query('(city==\"서울\") and (size==\"전체\")')"
   ]
  },
  {
   "cell_type": "markdown",
   "id": "f5be22e1",
   "metadata": {},
   "source": [
    "### 4) apt_seoul 데이터에서 city와 size컬럼 삭제"
   ]
  },
  {
   "cell_type": "code",
   "execution_count": 26,
   "id": "ae7bf2bf",
   "metadata": {},
   "outputs": [],
   "source": [
    "apt_seoul1 = apt_seoul.drop([\"city\", \"size\"], axis=1)"
   ]
  },
  {
   "cell_type": "code",
   "execution_count": 27,
   "id": "1fa0928f",
   "metadata": {},
   "outputs": [
    {
     "name": "stdout",
     "output_type": "stream",
     "text": [
      "<class 'pandas.core.frame.DataFrame'>\n",
      "Int64Index: 54 entries, 0 to 4505\n",
      "Data columns (total 3 columns):\n",
      " #   Column  Non-Null Count  Dtype  \n",
      "---  ------  --------------  -----  \n",
      " 0   year    54 non-null     int64  \n",
      " 1   month   54 non-null     int64  \n",
      " 2   price   54 non-null     float64\n",
      "dtypes: float64(1), int64(2)\n",
      "memory usage: 1.7 KB\n"
     ]
    }
   ],
   "source": [
    "apt_seoul1.info()"
   ]
  },
  {
   "cell_type": "markdown",
   "id": "009d0a95",
   "metadata": {},
   "source": [
    "### 5) year, month를 가지고 다중 인덱스 처리"
   ]
  },
  {
   "cell_type": "code",
   "execution_count": 28,
   "id": "c798ee2d",
   "metadata": {},
   "outputs": [],
   "source": [
    "apt_seoul1 = apt_seoul1.set_index([\"year\", \"month\"])"
   ]
  },
  {
   "cell_type": "code",
   "execution_count": 29,
   "id": "24888b44",
   "metadata": {},
   "outputs": [
    {
     "data": {
      "text/html": [
       "<div>\n",
       "<style scoped>\n",
       "    .dataframe tbody tr th:only-of-type {\n",
       "        vertical-align: middle;\n",
       "    }\n",
       "\n",
       "    .dataframe tbody tr th {\n",
       "        vertical-align: top;\n",
       "    }\n",
       "\n",
       "    .dataframe thead th {\n",
       "        text-align: right;\n",
       "    }\n",
       "</style>\n",
       "<table border=\"1\" class=\"dataframe\">\n",
       "  <thead>\n",
       "    <tr style=\"text-align: right;\">\n",
       "      <th></th>\n",
       "      <th></th>\n",
       "      <th>price</th>\n",
       "    </tr>\n",
       "    <tr>\n",
       "      <th>year</th>\n",
       "      <th>month</th>\n",
       "      <th></th>\n",
       "    </tr>\n",
       "  </thead>\n",
       "  <tbody>\n",
       "    <tr>\n",
       "      <th rowspan=\"3\" valign=\"top\">2015</th>\n",
       "      <th>10</th>\n",
       "      <td>5841.0</td>\n",
       "    </tr>\n",
       "    <tr>\n",
       "      <th>11</th>\n",
       "      <td>6050.0</td>\n",
       "    </tr>\n",
       "    <tr>\n",
       "      <th>12</th>\n",
       "      <td>6041.0</td>\n",
       "    </tr>\n",
       "    <tr>\n",
       "      <th rowspan=\"7\" valign=\"top\">2016</th>\n",
       "      <th>1</th>\n",
       "      <td>6108.0</td>\n",
       "    </tr>\n",
       "    <tr>\n",
       "      <th>2</th>\n",
       "      <td>6111.0</td>\n",
       "    </tr>\n",
       "    <tr>\n",
       "      <th>3</th>\n",
       "      <td>6173.0</td>\n",
       "    </tr>\n",
       "    <tr>\n",
       "      <th>4</th>\n",
       "      <td>6241.0</td>\n",
       "    </tr>\n",
       "    <tr>\n",
       "      <th>5</th>\n",
       "      <td>6264.0</td>\n",
       "    </tr>\n",
       "    <tr>\n",
       "      <th>6</th>\n",
       "      <td>6208.0</td>\n",
       "    </tr>\n",
       "    <tr>\n",
       "      <th>7</th>\n",
       "      <td>6254.0</td>\n",
       "    </tr>\n",
       "  </tbody>\n",
       "</table>\n",
       "</div>"
      ],
      "text/plain": [
       "             price\n",
       "year month        \n",
       "2015 10     5841.0\n",
       "     11     6050.0\n",
       "     12     6041.0\n",
       "2016 1      6108.0\n",
       "     2      6111.0\n",
       "     3      6173.0\n",
       "     4      6241.0\n",
       "     5      6264.0\n",
       "     6      6208.0\n",
       "     7      6254.0"
      ]
     },
     "execution_count": 29,
     "metadata": {},
     "output_type": "execute_result"
    }
   ],
   "source": [
    "apt_seoul1.head(10)"
   ]
  },
  {
   "cell_type": "markdown",
   "id": "14159960",
   "metadata": {},
   "source": [
    "## (3) 서울 신규 민간아파트 분양가격 동향 시각화"
   ]
  },
  {
   "cell_type": "code",
   "execution_count": 32,
   "id": "fe270514",
   "metadata": {},
   "outputs": [
    {
     "data": {
      "text/plain": [
       "<AxesSubplot:xlabel='year,month'>"
      ]
     },
     "execution_count": 32,
     "metadata": {},
     "output_type": "execute_result"
    },
    {
     "data": {
      "image/png": "[encoded data removed]",
      "text/plain": [
       "<Figure size 432x288 with 1 Axes>"
      ]
     },
     "metadata": {
      "needs_background": "light"
     },
     "output_type": "display_data"
    }
   ],
   "source": [
    "apt_seoul1.plot(figsize=(6, 4))"
   ]
  }
 ],
 "metadata": {
  "kernelspec": {
   "display_name": "Python 3 (ipykernel)",
   "language": "python",
   "name": "python3"
  },
  "language_info": {
   "codemirror_mode": {
    "name": "ipython",
    "version": 3
   },
   "file_extension": ".py",
   "mimetype": "text/x-python",
   "name": "python",
   "nbconvert_exporter": "python",
   "pygments_lexer": "ipython3",
   "version": "3.9.12"
  }
 },
 "nbformat": 4,
 "nbformat_minor": 5
}
